{
  "nbformat": 4,
  "nbformat_minor": 0,
  "metadata": {
    "colab": {
      "name": "Model2.ipynb",
      "provenance": [],
      "collapsed_sections": []
    },
    "kernelspec": {
      "name": "python3",
      "display_name": "Python 3"
    },
    "accelerator": "GPU"
  },
  "cells": [
    {
      "cell_type": "code",
      "metadata": {
        "id": "R9xOSj7V-fbp",
        "colab_type": "code",
        "cellView": "form",
        "colab": {}
      },
      "source": [
        "#@title\n",
        "pip install kaggle"
      ],
      "execution_count": null,
      "outputs": []
    },
    {
      "cell_type": "code",
      "metadata": {
        "id": "cqzjR9FX-32w",
        "colab_type": "code",
        "colab": {
          "resources": {
            "http://localhost:8080/nbextensions/google.colab/files.js": {
              "data": "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",
              "ok": true,
              "headers": [
                [
                  "content-type",
                  "application/javascript"
                ]
              ],
              "status": 200,
              "status_text": ""
            }
          },
          "base_uri": "https://localhost:8080/",
          "height": 89
        },
        "outputId": "5cd7234e-81fc-44c6-ec39-d337c294494b"
      },
      "source": [
        "from google.colab import files\n",
        "files.upload()"
      ],
      "execution_count": 24,
      "outputs": [
        {
          "output_type": "display_data",
          "data": {
            "text/html": [
              "\n",
              "     <input type=\"file\" id=\"files-9f7cb7e2-6462-4386-b4f3-a318b773236d\" name=\"files[]\" multiple disabled\n",
              "        style=\"border:none\" />\n",
              "     <output id=\"result-9f7cb7e2-6462-4386-b4f3-a318b773236d\">\n",
              "      Upload widget is only available when the cell has been executed in the\n",
              "      current browser session. Please rerun this cell to enable.\n",
              "      </output>\n",
              "      <script src=\"/nbextensions/google.colab/files.js\"></script> "
            ],
            "text/plain": [
              "<IPython.core.display.HTML object>"
            ]
          },
          "metadata": {
            "tags": []
          }
        },
        {
          "output_type": "stream",
          "text": [
            "Saving kaggle.json to kaggle (1).json\n"
          ],
          "name": "stdout"
        },
        {
          "output_type": "execute_result",
          "data": {
            "text/plain": [
              "{'kaggle.json': b'{\"username\":\"ahmedali2019\",\"key\":\"f87c00b4560debffb065fc3c68ec5118\"}'}"
            ]
          },
          "metadata": {
            "tags": []
          },
          "execution_count": 24
        }
      ]
    },
    {
      "cell_type": "code",
      "metadata": {
        "id": "kyXV_XC3-36J",
        "colab_type": "code",
        "colab": {}
      },
      "source": [
        "#before importing the dataset we want to use this code\n",
        "# The Kaggle API client expects this file to be in ~/.kaggle,\n",
        "!mkdir -p ~/.kaggle\n",
        "!cp kaggle.json ~/.kaggle/\n",
        "\n",
        "# This permissions change avoids a warning on Kaggle tool startup.\n",
        "!chmod 600 ~/.kaggle/kaggle.json"
      ],
      "execution_count": 25,
      "outputs": []
    },
    {
      "cell_type": "code",
      "metadata": {
        "id": "nIEdfbty-4Ci",
        "colab_type": "code",
        "colab": {
          "base_uri": "https://localhost:8080/",
          "height": 34
        },
        "outputId": "c8802785-42b8-4bdf-8ccd-c962348af12b"
      },
      "source": [
        "!kaggle datasets download -d deadskull7/fer2013\n"
      ],
      "execution_count": 26,
      "outputs": [
        {
          "output_type": "stream",
          "text": [
            "fer2013.zip: Skipping, found more recently modified local copy (use --force to force download)\n"
          ],
          "name": "stdout"
        }
      ]
    },
    {
      "cell_type": "code",
      "metadata": {
        "id": "04GFXX1i-4Fh",
        "colab_type": "code",
        "colab": {}
      },
      "source": [
        "import zipfile\n",
        "from tqdm import tqdm"
      ],
      "execution_count": 27,
      "outputs": []
    },
    {
      "cell_type": "code",
      "metadata": {
        "id": "IJ59nGa2-4N1",
        "colab_type": "code",
        "colab": {
          "base_uri": "https://localhost:8080/",
          "height": 34
        },
        "outputId": "1b340e44-d33a-44ed-a23e-1e78cf0c5da8"
      },
      "source": [
        "zf = zipfile.ZipFile('fer2013.zip')\n",
        "uncompress_size = sum((file.file_size for file in zf.infolist()))\n",
        "extracted_size = 0\n",
        "for file in tqdm(zf.infolist()):\n",
        "    extracted_size += file.file_size\n",
        "    zf.extract(file)"
      ],
      "execution_count": 28,
      "outputs": [
        {
          "output_type": "stream",
          "text": [
            "100%|██████████| 1/1 [00:02<00:00,  2.23s/it]\n"
          ],
          "name": "stderr"
        }
      ]
    },
    {
      "cell_type": "code",
      "metadata": {
        "id": "_VFdxxXj-4RN",
        "colab_type": "code",
        "colab": {}
      },
      "source": [
        "ls"
      ],
      "execution_count": null,
      "outputs": []
    },
    {
      "cell_type": "code",
      "metadata": {
        "id": "mhkhva2t-4Zg",
        "colab_type": "code",
        "colab": {}
      },
      "source": [
        "from keras.callbacks import CSVLogger, ModelCheckpoint, EarlyStopping\n",
        "from keras.callbacks import ReduceLROnPlateau\n",
        "from keras.preprocessing.image import ImageDataGenerator\n",
        "from sklearn.model_selection import train_test_split\n",
        "from keras.layers import Activation, Convolution2D, Dropout, Conv2D\n",
        "from keras.layers import AveragePooling2D, BatchNormalization\n",
        "from keras.layers import GlobalAveragePooling2D\n",
        "from keras.models import Sequential\n",
        "from keras.layers import Flatten\n",
        "from keras.models import Model\n",
        "from keras.layers import Input\n",
        "from keras.layers import MaxPooling2D\n",
        "from keras.layers import SeparableConv2D\n",
        "from keras import layers\n",
        "from keras.regularizers import l2\n",
        "import pandas as pd\n",
        "import cv2\n",
        "import numpy as np"
      ],
      "execution_count": 29,
      "outputs": []
    },
    {
      "cell_type": "code",
      "metadata": {
        "id": "NdhqIhVN-4dG",
        "colab_type": "code",
        "colab": {}
      },
      "source": [
        "dataset_path = '/content/fer2013.csv'\n",
        "image_size=(48,48)\n",
        "# parameters\n",
        "batch_size = 32\n",
        "num_epochs = 200\n",
        "input_shape = (48, 48, 1)\n",
        "validation_split = .2\n",
        "verbose = 1\n",
        "num_classes = 7\n",
        "patience = 50\n",
        "base_path = 'models/'\n",
        "l2_regularization=0.01\n"
      ],
      "execution_count": 30,
      "outputs": []
    },
    {
      "cell_type": "code",
      "metadata": {
        "id": "E253zk4C-4jR",
        "colab_type": "code",
        "colab": {}
      },
      "source": [
        "\n",
        "def load_fer2013():\n",
        "\tdata = pd.read_csv(dataset_path)\n",
        "\tpixels = data['pixels'].tolist()\n",
        "\twidth, height = 48, 48\n",
        "\tfaces = []\n",
        "\tfor pixel_sequence in tqdm(pixels):\n",
        "\t\tface = [int(pixel) for pixel in pixel_sequence.split(' ')]\n",
        "\t\tface = np.asarray(face).reshape(width, height)\n",
        "\t\tface = cv2.resize(face.astype('uint8'),image_size)\n",
        "\t\tfaces.append(face.astype('float32'))\n",
        "\tfaces = np.asarray(faces)\n",
        "\tfaces = np.expand_dims(faces, -1)\n",
        "\temotions = pd.get_dummies(data['emotion']).to_numpy()\n",
        " #.as_matrix()\n",
        "\treturn faces, emotions\n",
        "\n",
        "#df['Price']\n",
        "\n",
        "\n"
      ],
      "execution_count": 31,
      "outputs": []
    },
    {
      "cell_type": "code",
      "metadata": {
        "id": "L-8I6KCTByhq",
        "colab_type": "code",
        "colab": {}
      },
      "source": [
        "def preprocess_input(x, v2=True):\n",
        "    x = x.astype('float32')\n",
        "    x = x / 255.0\n",
        "    if v2:\n",
        "        x = x - 0.5\n",
        "        x = x * 2.0\n",
        "    return x"
      ],
      "execution_count": 32,
      "outputs": []
    },
    {
      "cell_type": "code",
      "metadata": {
        "id": "3_vtUG5Q-4o8",
        "colab_type": "code",
        "colab": {}
      },
      "source": [
        "\n",
        "# data generator\n",
        "data_generator = ImageDataGenerator(\n",
        "                        featurewise_center=False,\n",
        "                        featurewise_std_normalization=False,\n",
        "                        rotation_range=10,\n",
        "                        width_shift_range=0.1,\n",
        "                        height_shift_range=0.1,\n",
        "                        zoom_range=.1,\n",
        "                        horizontal_flip=True)\n"
      ],
      "execution_count": 33,
      "outputs": []
    },
    {
      "cell_type": "code",
      "metadata": {
        "id": "42Y_P90I-4se",
        "colab_type": "code",
        "colab": {
          "base_uri": "https://localhost:8080/",
          "height": 1000
        },
        "outputId": "30e6e1ca-b09d-46cc-ccbe-5b9a52cf4597"
      },
      "source": [
        "regularization = l2(l2_regularization)\n",
        "\n",
        "# base\n",
        "img_input = Input(input_shape)\n",
        "x = Conv2D(8, (3, 3), strides=(1, 1), kernel_regularizer=regularization, use_bias=False)(img_input)\n",
        "x = BatchNormalization()(x)\n",
        "x = Activation('relu')(x)\n",
        "x = Conv2D(8, (3, 3), strides=(1, 1), kernel_regularizer=regularization, use_bias=False)(x)\n",
        "x = BatchNormalization()(x)\n",
        "x = Activation('relu')(x)\n",
        "\n",
        "# module 1\n",
        "residual = Conv2D(16, (1, 1), strides=(2, 2), padding='same', use_bias=False)(x)\n",
        "residual = BatchNormalization()(residual)\n",
        "x = SeparableConv2D(16, (3, 3), padding='same', kernel_regularizer=regularization, use_bias=False)(x)\n",
        "x = BatchNormalization()(x)\n",
        "x = Activation('relu')(x)\n",
        "x = SeparableConv2D(16, (3, 3), padding='same', kernel_regularizer=regularization, use_bias=False)(x)\n",
        "x = BatchNormalization()(x)\n",
        "x = MaxPooling2D((3, 3), strides=(2, 2), padding='same')(x)\n",
        "x = layers.add([x, residual])\n",
        "\n",
        "# module 2\n",
        "residual = Conv2D(32, (1, 1), strides=(2, 2), padding='same', use_bias=False)(x)\n",
        "residual = BatchNormalization()(residual)\n",
        "x = SeparableConv2D(32, (3, 3), padding='same', kernel_regularizer=regularization, use_bias=False)(x)\n",
        "x = BatchNormalization()(x)\n",
        "x = Activation('relu')(x)\n",
        "x = SeparableConv2D(32, (3, 3), padding='same', kernel_regularizer=regularization, use_bias=False)(x)\n",
        "x = BatchNormalization()(x)\n",
        "x = MaxPooling2D((3, 3), strides=(2, 2), padding='same')(x)\n",
        "x = layers.add([x, residual])\n",
        "\n",
        "# module 3\n",
        "residual = Conv2D(64, (1, 1), strides=(2, 2),padding='same', use_bias=False)(x)\n",
        "residual = BatchNormalization()(residual)\n",
        "x = SeparableConv2D(64, (3, 3), padding='same',kernel_regularizer=regularization,use_bias=False)(x)\n",
        "x = BatchNormalization()(x)\n",
        "x = Activation('relu')(x)\n",
        "x = SeparableConv2D(64, (3, 3), padding='same',kernel_regularizer=regularization,use_bias=False)(x)\n",
        "x = BatchNormalization()(x)\n",
        "x = MaxPooling2D((3, 3), strides=(2, 2), padding='same')(x)\n",
        "x = layers.add([x, residual])\n",
        "\n",
        "# module 4\n",
        "residual = Conv2D(128, (1, 1), strides=(2, 2),padding='same', use_bias=False)(x)\n",
        "residual = BatchNormalization()(residual)\n",
        "x = SeparableConv2D(128, (3, 3), padding='same',kernel_regularizer=regularization,use_bias=False)(x)\n",
        "x = BatchNormalization()(x)\n",
        "x = Activation('relu')(x)\n",
        "x = SeparableConv2D(128, (3, 3), padding='same',kernel_regularizer=regularization,use_bias=False)(x)\n",
        "x = BatchNormalization()(x)\n",
        "x = MaxPooling2D((3, 3), strides=(2, 2), padding='same')(x)\n",
        "x = layers.add([x, residual])\n",
        "x = Conv2D(num_classes, (3, 3), padding='same')(x)\n",
        "x = GlobalAveragePooling2D()(x)\n",
        "output = Activation('softmax',name='predictions')(x)\n",
        "\n",
        "model = Model(img_input, output)\n",
        "model.compile(optimizer='adam', loss='categorical_crossentropy',metrics=['accuracy'])\n",
        "model.summary()\n"
      ],
      "execution_count": 34,
      "outputs": [
        {
          "output_type": "stream",
          "text": [
            "Model: \"model_2\"\n",
            "__________________________________________________________________________________________________\n",
            "Layer (type)                    Output Shape         Param #     Connected to                     \n",
            "==================================================================================================\n",
            "input_2 (InputLayer)            (None, 48, 48, 1)    0                                            \n",
            "__________________________________________________________________________________________________\n",
            "conv2d_8 (Conv2D)               (None, 46, 46, 8)    72          input_2[0][0]                    \n",
            "__________________________________________________________________________________________________\n",
            "batch_normalization_15 (BatchNo (None, 46, 46, 8)    32          conv2d_8[0][0]                   \n",
            "__________________________________________________________________________________________________\n",
            "activation_7 (Activation)       (None, 46, 46, 8)    0           batch_normalization_15[0][0]     \n",
            "__________________________________________________________________________________________________\n",
            "conv2d_9 (Conv2D)               (None, 44, 44, 8)    576         activation_7[0][0]               \n",
            "__________________________________________________________________________________________________\n",
            "batch_normalization_16 (BatchNo (None, 44, 44, 8)    32          conv2d_9[0][0]                   \n",
            "__________________________________________________________________________________________________\n",
            "activation_8 (Activation)       (None, 44, 44, 8)    0           batch_normalization_16[0][0]     \n",
            "__________________________________________________________________________________________________\n",
            "separable_conv2d_9 (SeparableCo (None, 44, 44, 16)   200         activation_8[0][0]               \n",
            "__________________________________________________________________________________________________\n",
            "batch_normalization_18 (BatchNo (None, 44, 44, 16)   64          separable_conv2d_9[0][0]         \n",
            "__________________________________________________________________________________________________\n",
            "activation_9 (Activation)       (None, 44, 44, 16)   0           batch_normalization_18[0][0]     \n",
            "__________________________________________________________________________________________________\n",
            "separable_conv2d_10 (SeparableC (None, 44, 44, 16)   400         activation_9[0][0]               \n",
            "__________________________________________________________________________________________________\n",
            "batch_normalization_19 (BatchNo (None, 44, 44, 16)   64          separable_conv2d_10[0][0]        \n",
            "__________________________________________________________________________________________________\n",
            "conv2d_10 (Conv2D)              (None, 22, 22, 16)   128         activation_8[0][0]               \n",
            "__________________________________________________________________________________________________\n",
            "max_pooling2d_5 (MaxPooling2D)  (None, 22, 22, 16)   0           batch_normalization_19[0][0]     \n",
            "__________________________________________________________________________________________________\n",
            "batch_normalization_17 (BatchNo (None, 22, 22, 16)   64          conv2d_10[0][0]                  \n",
            "__________________________________________________________________________________________________\n",
            "add_5 (Add)                     (None, 22, 22, 16)   0           max_pooling2d_5[0][0]            \n",
            "                                                                 batch_normalization_17[0][0]     \n",
            "__________________________________________________________________________________________________\n",
            "separable_conv2d_11 (SeparableC (None, 22, 22, 32)   656         add_5[0][0]                      \n",
            "__________________________________________________________________________________________________\n",
            "batch_normalization_21 (BatchNo (None, 22, 22, 32)   128         separable_conv2d_11[0][0]        \n",
            "__________________________________________________________________________________________________\n",
            "activation_10 (Activation)      (None, 22, 22, 32)   0           batch_normalization_21[0][0]     \n",
            "__________________________________________________________________________________________________\n",
            "separable_conv2d_12 (SeparableC (None, 22, 22, 32)   1312        activation_10[0][0]              \n",
            "__________________________________________________________________________________________________\n",
            "batch_normalization_22 (BatchNo (None, 22, 22, 32)   128         separable_conv2d_12[0][0]        \n",
            "__________________________________________________________________________________________________\n",
            "conv2d_11 (Conv2D)              (None, 11, 11, 32)   512         add_5[0][0]                      \n",
            "__________________________________________________________________________________________________\n",
            "max_pooling2d_6 (MaxPooling2D)  (None, 11, 11, 32)   0           batch_normalization_22[0][0]     \n",
            "__________________________________________________________________________________________________\n",
            "batch_normalization_20 (BatchNo (None, 11, 11, 32)   128         conv2d_11[0][0]                  \n",
            "__________________________________________________________________________________________________\n",
            "add_6 (Add)                     (None, 11, 11, 32)   0           max_pooling2d_6[0][0]            \n",
            "                                                                 batch_normalization_20[0][0]     \n",
            "__________________________________________________________________________________________________\n",
            "separable_conv2d_13 (SeparableC (None, 11, 11, 64)   2336        add_6[0][0]                      \n",
            "__________________________________________________________________________________________________\n",
            "batch_normalization_24 (BatchNo (None, 11, 11, 64)   256         separable_conv2d_13[0][0]        \n",
            "__________________________________________________________________________________________________\n",
            "activation_11 (Activation)      (None, 11, 11, 64)   0           batch_normalization_24[0][0]     \n",
            "__________________________________________________________________________________________________\n",
            "separable_conv2d_14 (SeparableC (None, 11, 11, 64)   4672        activation_11[0][0]              \n",
            "__________________________________________________________________________________________________\n",
            "batch_normalization_25 (BatchNo (None, 11, 11, 64)   256         separable_conv2d_14[0][0]        \n",
            "__________________________________________________________________________________________________\n",
            "conv2d_12 (Conv2D)              (None, 6, 6, 64)     2048        add_6[0][0]                      \n",
            "__________________________________________________________________________________________________\n",
            "max_pooling2d_7 (MaxPooling2D)  (None, 6, 6, 64)     0           batch_normalization_25[0][0]     \n",
            "__________________________________________________________________________________________________\n",
            "batch_normalization_23 (BatchNo (None, 6, 6, 64)     256         conv2d_12[0][0]                  \n",
            "__________________________________________________________________________________________________\n",
            "add_7 (Add)                     (None, 6, 6, 64)     0           max_pooling2d_7[0][0]            \n",
            "                                                                 batch_normalization_23[0][0]     \n",
            "__________________________________________________________________________________________________\n",
            "separable_conv2d_15 (SeparableC (None, 6, 6, 128)    8768        add_7[0][0]                      \n",
            "__________________________________________________________________________________________________\n",
            "batch_normalization_27 (BatchNo (None, 6, 6, 128)    512         separable_conv2d_15[0][0]        \n",
            "__________________________________________________________________________________________________\n",
            "activation_12 (Activation)      (None, 6, 6, 128)    0           batch_normalization_27[0][0]     \n",
            "__________________________________________________________________________________________________\n",
            "separable_conv2d_16 (SeparableC (None, 6, 6, 128)    17536       activation_12[0][0]              \n",
            "__________________________________________________________________________________________________\n",
            "batch_normalization_28 (BatchNo (None, 6, 6, 128)    512         separable_conv2d_16[0][0]        \n",
            "__________________________________________________________________________________________________\n",
            "conv2d_13 (Conv2D)              (None, 3, 3, 128)    8192        add_7[0][0]                      \n",
            "__________________________________________________________________________________________________\n",
            "max_pooling2d_8 (MaxPooling2D)  (None, 3, 3, 128)    0           batch_normalization_28[0][0]     \n",
            "__________________________________________________________________________________________________\n",
            "batch_normalization_26 (BatchNo (None, 3, 3, 128)    512         conv2d_13[0][0]                  \n",
            "__________________________________________________________________________________________________\n",
            "add_8 (Add)                     (None, 3, 3, 128)    0           max_pooling2d_8[0][0]            \n",
            "                                                                 batch_normalization_26[0][0]     \n",
            "__________________________________________________________________________________________________\n",
            "conv2d_14 (Conv2D)              (None, 3, 3, 7)      8071        add_8[0][0]                      \n",
            "__________________________________________________________________________________________________\n",
            "global_average_pooling2d_2 (Glo (None, 7)            0           conv2d_14[0][0]                  \n",
            "__________________________________________________________________________________________________\n",
            "predictions (Activation)        (None, 7)            0           global_average_pooling2d_2[0][0] \n",
            "==================================================================================================\n",
            "Total params: 58,423\n",
            "Trainable params: 56,951\n",
            "Non-trainable params: 1,472\n",
            "__________________________________________________________________________________________________\n"
          ],
          "name": "stdout"
        }
      ]
    },
    {
      "cell_type": "code",
      "metadata": {
        "id": "qC9jF3fi-44g",
        "colab_type": "code",
        "colab": {
          "base_uri": "https://localhost:8080/",
          "height": 34
        },
        "outputId": "79c12885-03b4-4621-caa7-529b85520876"
      },
      "source": [
        "\n",
        "# loading dataset\n",
        "faces, emotions = load_fer2013()\n",
        "\n"
      ],
      "execution_count": 35,
      "outputs": [
        {
          "output_type": "stream",
          "text": [
            "100%|██████████| 35887/35887 [00:21<00:00, 1664.64it/s]\n"
          ],
          "name": "stderr"
        }
      ]
    },
    {
      "cell_type": "code",
      "metadata": {
        "id": "oISMl3QOFG7m",
        "colab_type": "code",
        "colab": {}
      },
      "source": [
        "faces = preprocess_input(faces)"
      ],
      "execution_count": 36,
      "outputs": []
    },
    {
      "cell_type": "code",
      "metadata": {
        "id": "lnIhy9j0FUUL",
        "colab_type": "code",
        "colab": {}
      },
      "source": [
        "num_samples, num_classes = emotions.shape"
      ],
      "execution_count": 37,
      "outputs": []
    },
    {
      "cell_type": "code",
      "metadata": {
        "id": "1uce0qMUFVlK",
        "colab_type": "code",
        "colab": {}
      },
      "source": [
        "xtrain, xtest,ytrain,ytest = train_test_split(faces, emotions,test_size=0.2,shuffle=True)"
      ],
      "execution_count": 38,
      "outputs": []
    },
    {
      "cell_type": "code",
      "metadata": {
        "id": "qvO_9FLs-5CN",
        "colab_type": "code",
        "colab": {
          "base_uri": "https://localhost:8080/",
          "height": 1000
        },
        "outputId": "9ad48e00-0aac-4729-b513-cb8c85ba1afe"
      },
      "source": [
        "history =model.fit_generator(data_generator.flow(xtrain, ytrain,\n",
        "                                            batch_size),\n",
        "                        steps_per_epoch=len(xtrain) / batch_size,\n",
        "                        epochs=num_epochs, verbose=1,\n",
        "                        validation_data=(xtest,ytest))\n",
        "model.save(\"my_Model.h5\")\n",
        "model.save(\"my_Model.hdf5\")\n"
      ],
      "execution_count": 39,
      "outputs": [
        {
          "output_type": "stream",
          "text": [
            "Epoch 1/200\n",
            "898/897 [==============================] - 44s 49ms/step - loss: 1.7589 - accuracy: 0.3346 - val_loss: 1.7295 - val_accuracy: 0.3863\n",
            "Epoch 2/200\n",
            "898/897 [==============================] - 35s 38ms/step - loss: 1.5070 - accuracy: 0.4327 - val_loss: 1.6036 - val_accuracy: 0.4138\n",
            "Epoch 3/200\n",
            "898/897 [==============================] - 35s 39ms/step - loss: 1.3829 - accuracy: 0.4813 - val_loss: 1.4381 - val_accuracy: 0.4645\n",
            "Epoch 4/200\n",
            "898/897 [==============================] - 35s 39ms/step - loss: 1.3181 - accuracy: 0.5025 - val_loss: 1.3210 - val_accuracy: 0.4950\n",
            "Epoch 5/200\n",
            "898/897 [==============================] - 35s 39ms/step - loss: 1.2776 - accuracy: 0.5206 - val_loss: 1.2240 - val_accuracy: 0.5476\n",
            "Epoch 6/200\n",
            "898/897 [==============================] - 35s 39ms/step - loss: 1.2413 - accuracy: 0.5349 - val_loss: 1.2631 - val_accuracy: 0.5371\n",
            "Epoch 7/200\n",
            "898/897 [==============================] - 35s 39ms/step - loss: 1.2126 - accuracy: 0.5465 - val_loss: 1.2311 - val_accuracy: 0.5481\n",
            "Epoch 8/200\n",
            "898/897 [==============================] - 35s 38ms/step - loss: 1.1925 - accuracy: 0.5518 - val_loss: 1.2039 - val_accuracy: 0.5482\n",
            "Epoch 9/200\n",
            "898/897 [==============================] - 34s 38ms/step - loss: 1.1696 - accuracy: 0.5628 - val_loss: 1.1323 - val_accuracy: 0.5818\n",
            "Epoch 10/200\n",
            "898/897 [==============================] - 35s 38ms/step - loss: 1.1571 - accuracy: 0.5700 - val_loss: 1.1875 - val_accuracy: 0.5638\n",
            "Epoch 11/200\n",
            "898/897 [==============================] - 34s 38ms/step - loss: 1.1364 - accuracy: 0.5778 - val_loss: 1.2149 - val_accuracy: 0.5666\n",
            "Epoch 12/200\n",
            "898/897 [==============================] - 34s 38ms/step - loss: 1.1268 - accuracy: 0.5776 - val_loss: 1.2535 - val_accuracy: 0.5354\n",
            "Epoch 13/200\n",
            "898/897 [==============================] - 35s 39ms/step - loss: 1.1153 - accuracy: 0.5846 - val_loss: 1.1935 - val_accuracy: 0.5628\n",
            "Epoch 14/200\n",
            "898/897 [==============================] - 34s 38ms/step - loss: 1.1040 - accuracy: 0.5878 - val_loss: 1.1164 - val_accuracy: 0.5790\n",
            "Epoch 15/200\n",
            "898/897 [==============================] - 34s 38ms/step - loss: 1.0947 - accuracy: 0.5911 - val_loss: 1.2368 - val_accuracy: 0.5617\n",
            "Epoch 16/200\n",
            "898/897 [==============================] - 34s 38ms/step - loss: 1.0879 - accuracy: 0.5930 - val_loss: 1.0983 - val_accuracy: 0.5910\n",
            "Epoch 17/200\n",
            "898/897 [==============================] - 34s 38ms/step - loss: 1.0774 - accuracy: 0.5946 - val_loss: 1.1598 - val_accuracy: 0.5644\n",
            "Epoch 18/200\n",
            "898/897 [==============================] - 35s 39ms/step - loss: 1.0690 - accuracy: 0.6054 - val_loss: 1.1085 - val_accuracy: 0.5908\n",
            "Epoch 19/200\n",
            "898/897 [==============================] - 34s 38ms/step - loss: 1.0696 - accuracy: 0.6018 - val_loss: 1.1159 - val_accuracy: 0.5860\n",
            "Epoch 20/200\n",
            "898/897 [==============================] - 34s 38ms/step - loss: 1.0553 - accuracy: 0.6077 - val_loss: 1.1189 - val_accuracy: 0.5819\n",
            "Epoch 21/200\n",
            "898/897 [==============================] - 34s 38ms/step - loss: 1.0511 - accuracy: 0.6073 - val_loss: 1.1315 - val_accuracy: 0.5826\n",
            "Epoch 22/200\n",
            "898/897 [==============================] - 35s 39ms/step - loss: 1.0482 - accuracy: 0.6098 - val_loss: 1.1859 - val_accuracy: 0.5701\n",
            "Epoch 23/200\n",
            "898/897 [==============================] - 34s 38ms/step - loss: 1.0378 - accuracy: 0.6177 - val_loss: 1.1041 - val_accuracy: 0.5821\n",
            "Epoch 24/200\n",
            "898/897 [==============================] - 34s 38ms/step - loss: 1.0340 - accuracy: 0.6160 - val_loss: 1.1357 - val_accuracy: 0.5861\n",
            "Epoch 25/200\n",
            "898/897 [==============================] - 35s 39ms/step - loss: 1.0278 - accuracy: 0.6191 - val_loss: 1.0949 - val_accuracy: 0.5946\n",
            "Epoch 26/200\n",
            "898/897 [==============================] - 34s 38ms/step - loss: 1.0242 - accuracy: 0.6198 - val_loss: 1.1083 - val_accuracy: 0.5858\n",
            "Epoch 27/200\n",
            "898/897 [==============================] - 35s 39ms/step - loss: 1.0262 - accuracy: 0.6199 - val_loss: 1.1307 - val_accuracy: 0.5790\n",
            "Epoch 28/200\n",
            "898/897 [==============================] - 34s 38ms/step - loss: 1.0121 - accuracy: 0.6195 - val_loss: 1.0519 - val_accuracy: 0.6151\n",
            "Epoch 29/200\n",
            "898/897 [==============================] - 35s 39ms/step - loss: 1.0122 - accuracy: 0.6235 - val_loss: 1.0907 - val_accuracy: 0.5954\n",
            "Epoch 30/200\n",
            "898/897 [==============================] - 34s 38ms/step - loss: 1.0041 - accuracy: 0.6258 - val_loss: 1.0915 - val_accuracy: 0.5995\n",
            "Epoch 31/200\n",
            "898/897 [==============================] - 35s 39ms/step - loss: 1.0027 - accuracy: 0.6237 - val_loss: 1.0853 - val_accuracy: 0.5914\n",
            "Epoch 32/200\n",
            "898/897 [==============================] - 34s 38ms/step - loss: 0.9946 - accuracy: 0.6283 - val_loss: 1.0568 - val_accuracy: 0.6092\n",
            "Epoch 33/200\n",
            "898/897 [==============================] - 34s 38ms/step - loss: 0.9941 - accuracy: 0.6294 - val_loss: 1.1216 - val_accuracy: 0.5958\n",
            "Epoch 34/200\n",
            "898/897 [==============================] - 34s 38ms/step - loss: 0.9951 - accuracy: 0.6298 - val_loss: 1.0955 - val_accuracy: 0.6013\n",
            "Epoch 35/200\n",
            "898/897 [==============================] - 34s 38ms/step - loss: 0.9885 - accuracy: 0.6317 - val_loss: 1.0588 - val_accuracy: 0.6099\n",
            "Epoch 36/200\n",
            "898/897 [==============================] - 35s 38ms/step - loss: 0.9827 - accuracy: 0.6327 - val_loss: 1.0629 - val_accuracy: 0.6060\n",
            "Epoch 37/200\n",
            "898/897 [==============================] - 34s 38ms/step - loss: 0.9798 - accuracy: 0.6376 - val_loss: 1.0944 - val_accuracy: 0.6045\n",
            "Epoch 38/200\n",
            "898/897 [==============================] - 34s 38ms/step - loss: 0.9791 - accuracy: 0.6351 - val_loss: 1.0920 - val_accuracy: 0.6020\n",
            "Epoch 39/200\n",
            "898/897 [==============================] - 35s 38ms/step - loss: 0.9773 - accuracy: 0.6367 - val_loss: 1.0897 - val_accuracy: 0.5956\n",
            "Epoch 40/200\n",
            "898/897 [==============================] - 35s 39ms/step - loss: 0.9761 - accuracy: 0.6396 - val_loss: 1.0660 - val_accuracy: 0.6123\n",
            "Epoch 41/200\n",
            "898/897 [==============================] - 35s 39ms/step - loss: 0.9723 - accuracy: 0.6394 - val_loss: 1.0777 - val_accuracy: 0.6018\n",
            "Epoch 42/200\n",
            "898/897 [==============================] - 34s 38ms/step - loss: 0.9679 - accuracy: 0.6408 - val_loss: 1.0803 - val_accuracy: 0.6031\n",
            "Epoch 43/200\n",
            "898/897 [==============================] - 35s 38ms/step - loss: 0.9616 - accuracy: 0.6419 - val_loss: 1.0366 - val_accuracy: 0.6183\n",
            "Epoch 44/200\n",
            "898/897 [==============================] - 34s 38ms/step - loss: 0.9625 - accuracy: 0.6423 - val_loss: 1.0654 - val_accuracy: 0.6045\n",
            "Epoch 45/200\n",
            "898/897 [==============================] - 35s 39ms/step - loss: 0.9644 - accuracy: 0.6406 - val_loss: 1.1123 - val_accuracy: 0.5910\n",
            "Epoch 46/200\n",
            "898/897 [==============================] - 35s 39ms/step - loss: 0.9603 - accuracy: 0.6412 - val_loss: 1.0535 - val_accuracy: 0.6167\n",
            "Epoch 47/200\n",
            "898/897 [==============================] - 35s 39ms/step - loss: 0.9545 - accuracy: 0.6443 - val_loss: 1.0327 - val_accuracy: 0.6195\n",
            "Epoch 48/200\n",
            "898/897 [==============================] - 35s 39ms/step - loss: 0.9452 - accuracy: 0.6461 - val_loss: 1.0467 - val_accuracy: 0.6087\n",
            "Epoch 49/200\n",
            "898/897 [==============================] - 35s 39ms/step - loss: 0.9507 - accuracy: 0.6454 - val_loss: 1.0449 - val_accuracy: 0.6174\n",
            "Epoch 50/200\n",
            "898/897 [==============================] - 35s 39ms/step - loss: 0.9431 - accuracy: 0.6478 - val_loss: 1.0706 - val_accuracy: 0.6127\n",
            "Epoch 51/200\n",
            "898/897 [==============================] - 35s 39ms/step - loss: 0.9446 - accuracy: 0.6481 - val_loss: 1.0852 - val_accuracy: 0.6004\n",
            "Epoch 52/200\n",
            "898/897 [==============================] - 35s 39ms/step - loss: 0.9403 - accuracy: 0.6471 - val_loss: 1.1097 - val_accuracy: 0.5940\n",
            "Epoch 53/200\n",
            "898/897 [==============================] - 35s 39ms/step - loss: 0.9387 - accuracy: 0.6491 - val_loss: 1.0245 - val_accuracy: 0.6216\n",
            "Epoch 54/200\n",
            "898/897 [==============================] - 35s 39ms/step - loss: 0.9377 - accuracy: 0.6517 - val_loss: 1.1100 - val_accuracy: 0.5949\n",
            "Epoch 55/200\n",
            "898/897 [==============================] - 35s 39ms/step - loss: 0.9328 - accuracy: 0.6549 - val_loss: 1.0646 - val_accuracy: 0.6035\n",
            "Epoch 56/200\n",
            "898/897 [==============================] - 34s 38ms/step - loss: 0.9370 - accuracy: 0.6524 - val_loss: 1.0855 - val_accuracy: 0.6020\n",
            "Epoch 57/200\n",
            "898/897 [==============================] - 34s 38ms/step - loss: 0.9367 - accuracy: 0.6513 - val_loss: 1.0523 - val_accuracy: 0.6215\n",
            "Epoch 58/200\n",
            "898/897 [==============================] - 35s 39ms/step - loss: 0.9309 - accuracy: 0.6514 - val_loss: 1.0754 - val_accuracy: 0.6082\n",
            "Epoch 59/200\n",
            "898/897 [==============================] - 34s 38ms/step - loss: 0.9307 - accuracy: 0.6526 - val_loss: 1.0474 - val_accuracy: 0.6116\n",
            "Epoch 60/200\n",
            "898/897 [==============================] - 34s 38ms/step - loss: 0.9276 - accuracy: 0.6536 - val_loss: 1.0248 - val_accuracy: 0.6213\n",
            "Epoch 61/200\n",
            "898/897 [==============================] - 34s 38ms/step - loss: 0.9201 - accuracy: 0.6588 - val_loss: 1.0307 - val_accuracy: 0.6266\n",
            "Epoch 62/200\n",
            "898/897 [==============================] - 35s 38ms/step - loss: 0.9220 - accuracy: 0.6570 - val_loss: 1.0504 - val_accuracy: 0.6117\n",
            "Epoch 63/200\n",
            "898/897 [==============================] - 34s 38ms/step - loss: 0.9220 - accuracy: 0.6571 - val_loss: 1.0733 - val_accuracy: 0.6013\n",
            "Epoch 64/200\n",
            "898/897 [==============================] - 34s 38ms/step - loss: 0.9213 - accuracy: 0.6575 - val_loss: 1.0494 - val_accuracy: 0.6148\n",
            "Epoch 65/200\n",
            "898/897 [==============================] - 34s 38ms/step - loss: 0.9162 - accuracy: 0.6586 - val_loss: 1.0784 - val_accuracy: 0.6119\n",
            "Epoch 66/200\n",
            "898/897 [==============================] - 34s 38ms/step - loss: 0.9128 - accuracy: 0.6589 - val_loss: 1.0885 - val_accuracy: 0.6039\n",
            "Epoch 67/200\n",
            "898/897 [==============================] - 35s 39ms/step - loss: 0.9137 - accuracy: 0.6622 - val_loss: 1.0439 - val_accuracy: 0.6201\n",
            "Epoch 68/200\n",
            "898/897 [==============================] - 34s 38ms/step - loss: 0.9103 - accuracy: 0.6618 - val_loss: 1.0894 - val_accuracy: 0.6020\n",
            "Epoch 69/200\n",
            "898/897 [==============================] - 35s 38ms/step - loss: 0.9126 - accuracy: 0.6590 - val_loss: 1.0643 - val_accuracy: 0.6056\n",
            "Epoch 70/200\n",
            "898/897 [==============================] - 34s 38ms/step - loss: 0.9067 - accuracy: 0.6652 - val_loss: 1.0622 - val_accuracy: 0.6113\n",
            "Epoch 71/200\n",
            "898/897 [==============================] - 35s 38ms/step - loss: 0.9051 - accuracy: 0.6665 - val_loss: 1.0297 - val_accuracy: 0.6215\n",
            "Epoch 72/200\n",
            "898/897 [==============================] - 34s 38ms/step - loss: 0.9088 - accuracy: 0.6602 - val_loss: 1.0722 - val_accuracy: 0.6140\n",
            "Epoch 73/200\n",
            "898/897 [==============================] - 35s 39ms/step - loss: 0.9013 - accuracy: 0.6647 - val_loss: 1.0910 - val_accuracy: 0.6053\n",
            "Epoch 74/200\n",
            "898/897 [==============================] - 35s 38ms/step - loss: 0.9005 - accuracy: 0.6664 - val_loss: 1.0651 - val_accuracy: 0.6241\n",
            "Epoch 75/200\n",
            "898/897 [==============================] - 34s 38ms/step - loss: 0.9038 - accuracy: 0.6640 - val_loss: 1.0505 - val_accuracy: 0.6123\n",
            "Epoch 76/200\n",
            "898/897 [==============================] - 35s 39ms/step - loss: 0.8966 - accuracy: 0.6646 - val_loss: 1.0781 - val_accuracy: 0.6130\n",
            "Epoch 77/200\n",
            "898/897 [==============================] - 35s 39ms/step - loss: 0.8976 - accuracy: 0.6703 - val_loss: 1.0413 - val_accuracy: 0.6245\n",
            "Epoch 78/200\n",
            "898/897 [==============================] - 35s 39ms/step - loss: 0.8932 - accuracy: 0.6719 - val_loss: 1.0853 - val_accuracy: 0.6134\n",
            "Epoch 79/200\n",
            "898/897 [==============================] - 34s 38ms/step - loss: 0.8994 - accuracy: 0.6677 - val_loss: 1.1005 - val_accuracy: 0.6102\n",
            "Epoch 80/200\n",
            "898/897 [==============================] - 35s 39ms/step - loss: 0.8952 - accuracy: 0.6684 - val_loss: 1.0453 - val_accuracy: 0.6191\n",
            "Epoch 81/200\n",
            "898/897 [==============================] - 35s 39ms/step - loss: 0.8927 - accuracy: 0.6715 - val_loss: 1.0515 - val_accuracy: 0.6206\n",
            "Epoch 82/200\n",
            "898/897 [==============================] - 35s 39ms/step - loss: 0.8914 - accuracy: 0.6712 - val_loss: 1.0578 - val_accuracy: 0.6120\n",
            "Epoch 83/200\n",
            "898/897 [==============================] - 35s 38ms/step - loss: 0.8916 - accuracy: 0.6701 - val_loss: 1.1053 - val_accuracy: 0.6127\n",
            "Epoch 84/200\n",
            "898/897 [==============================] - 35s 39ms/step - loss: 0.8909 - accuracy: 0.6694 - val_loss: 1.0459 - val_accuracy: 0.6266\n",
            "Epoch 85/200\n",
            "898/897 [==============================] - 35s 39ms/step - loss: 0.8842 - accuracy: 0.6688 - val_loss: 1.0794 - val_accuracy: 0.6126\n",
            "Epoch 86/200\n",
            "898/897 [==============================] - 34s 38ms/step - loss: 0.8798 - accuracy: 0.6737 - val_loss: 1.0506 - val_accuracy: 0.6222\n",
            "Epoch 87/200\n",
            "898/897 [==============================] - 35s 39ms/step - loss: 0.8864 - accuracy: 0.6710 - val_loss: 1.0484 - val_accuracy: 0.6138\n",
            "Epoch 88/200\n",
            "898/897 [==============================] - 35s 39ms/step - loss: 0.8849 - accuracy: 0.6724 - val_loss: 1.0723 - val_accuracy: 0.6173\n",
            "Epoch 89/200\n",
            "898/897 [==============================] - 35s 39ms/step - loss: 0.8826 - accuracy: 0.6762 - val_loss: 1.0256 - val_accuracy: 0.6298\n",
            "Epoch 90/200\n",
            "898/897 [==============================] - 35s 39ms/step - loss: 0.8769 - accuracy: 0.6736 - val_loss: 1.0516 - val_accuracy: 0.6272\n",
            "Epoch 91/200\n",
            "898/897 [==============================] - 35s 39ms/step - loss: 0.8753 - accuracy: 0.6757 - val_loss: 1.0556 - val_accuracy: 0.6251\n",
            "Epoch 92/200\n",
            "898/897 [==============================] - 35s 39ms/step - loss: 0.8812 - accuracy: 0.6752 - val_loss: 1.0971 - val_accuracy: 0.6091\n",
            "Epoch 93/200\n",
            "898/897 [==============================] - 35s 39ms/step - loss: 0.8789 - accuracy: 0.6749 - val_loss: 1.0545 - val_accuracy: 0.6290\n",
            "Epoch 94/200\n",
            "898/897 [==============================] - 35s 39ms/step - loss: 0.8688 - accuracy: 0.6778 - val_loss: 1.0597 - val_accuracy: 0.6181\n",
            "Epoch 95/200\n",
            "898/897 [==============================] - 35s 39ms/step - loss: 0.8699 - accuracy: 0.6782 - val_loss: 1.0355 - val_accuracy: 0.6225\n",
            "Epoch 96/200\n",
            "898/897 [==============================] - 35s 39ms/step - loss: 0.8752 - accuracy: 0.6769 - val_loss: 1.0625 - val_accuracy: 0.6186\n",
            "Epoch 97/200\n",
            "898/897 [==============================] - 35s 39ms/step - loss: 0.8741 - accuracy: 0.6767 - val_loss: 1.0572 - val_accuracy: 0.6180\n",
            "Epoch 98/200\n",
            "898/897 [==============================] - 35s 39ms/step - loss: 0.8661 - accuracy: 0.6784 - val_loss: 1.0860 - val_accuracy: 0.6232\n",
            "Epoch 99/200\n",
            "898/897 [==============================] - 34s 38ms/step - loss: 0.8684 - accuracy: 0.6770 - val_loss: 1.0452 - val_accuracy: 0.6251\n",
            "Epoch 100/200\n",
            "898/897 [==============================] - 34s 38ms/step - loss: 0.8711 - accuracy: 0.6781 - val_loss: 1.0695 - val_accuracy: 0.6212\n",
            "Epoch 101/200\n",
            "898/897 [==============================] - 35s 39ms/step - loss: 0.8666 - accuracy: 0.6787 - val_loss: 1.0375 - val_accuracy: 0.6304\n",
            "Epoch 102/200\n",
            "898/897 [==============================] - 34s 38ms/step - loss: 0.8627 - accuracy: 0.6775 - val_loss: 1.0549 - val_accuracy: 0.6208\n",
            "Epoch 103/200\n",
            "898/897 [==============================] - 35s 39ms/step - loss: 0.8653 - accuracy: 0.6799 - val_loss: 1.0349 - val_accuracy: 0.6314\n",
            "Epoch 104/200\n",
            "898/897 [==============================] - 35s 39ms/step - loss: 0.8610 - accuracy: 0.6772 - val_loss: 1.0379 - val_accuracy: 0.6298\n",
            "Epoch 105/200\n",
            "898/897 [==============================] - 34s 38ms/step - loss: 0.8613 - accuracy: 0.6802 - val_loss: 1.0665 - val_accuracy: 0.6226\n",
            "Epoch 106/200\n",
            "898/897 [==============================] - 35s 39ms/step - loss: 0.8636 - accuracy: 0.6810 - val_loss: 1.0726 - val_accuracy: 0.6120\n",
            "Epoch 107/200\n",
            "898/897 [==============================] - 35s 38ms/step - loss: 0.8604 - accuracy: 0.6803 - val_loss: 1.0940 - val_accuracy: 0.6084\n",
            "Epoch 108/200\n",
            "898/897 [==============================] - 35s 39ms/step - loss: 0.8644 - accuracy: 0.6799 - val_loss: 1.0425 - val_accuracy: 0.6297\n",
            "Epoch 109/200\n",
            "898/897 [==============================] - 35s 39ms/step - loss: 0.8555 - accuracy: 0.6851 - val_loss: 1.0755 - val_accuracy: 0.6137\n",
            "Epoch 110/200\n",
            "898/897 [==============================] - 35s 39ms/step - loss: 0.8576 - accuracy: 0.6807 - val_loss: 1.0543 - val_accuracy: 0.6244\n",
            "Epoch 111/200\n",
            "898/897 [==============================] - 35s 39ms/step - loss: 0.8569 - accuracy: 0.6830 - val_loss: 1.0534 - val_accuracy: 0.6250\n",
            "Epoch 112/200\n",
            "898/897 [==============================] - 35s 39ms/step - loss: 0.8553 - accuracy: 0.6826 - val_loss: 1.0596 - val_accuracy: 0.6176\n",
            "Epoch 113/200\n",
            "898/897 [==============================] - 35s 39ms/step - loss: 0.8539 - accuracy: 0.6832 - val_loss: 1.0794 - val_accuracy: 0.6142\n",
            "Epoch 114/200\n",
            "898/897 [==============================] - 35s 38ms/step - loss: 0.8587 - accuracy: 0.6839 - val_loss: 1.0808 - val_accuracy: 0.6138\n",
            "Epoch 115/200\n",
            "898/897 [==============================] - 35s 39ms/step - loss: 0.8469 - accuracy: 0.6852 - val_loss: 1.0936 - val_accuracy: 0.6103\n",
            "Epoch 116/200\n",
            "898/897 [==============================] - 35s 39ms/step - loss: 0.8521 - accuracy: 0.6866 - val_loss: 1.0428 - val_accuracy: 0.6258\n",
            "Epoch 117/200\n",
            "898/897 [==============================] - 35s 38ms/step - loss: 0.8478 - accuracy: 0.6866 - val_loss: 1.1117 - val_accuracy: 0.6113\n",
            "Epoch 118/200\n",
            "898/897 [==============================] - 35s 39ms/step - loss: 0.8456 - accuracy: 0.6871 - val_loss: 1.0616 - val_accuracy: 0.6218\n",
            "Epoch 119/200\n",
            "898/897 [==============================] - 35s 39ms/step - loss: 0.8516 - accuracy: 0.6856 - val_loss: 1.1315 - val_accuracy: 0.6076\n",
            "Epoch 120/200\n",
            "898/897 [==============================] - 35s 39ms/step - loss: 0.8495 - accuracy: 0.6866 - val_loss: 1.0317 - val_accuracy: 0.6258\n",
            "Epoch 121/200\n",
            "898/897 [==============================] - 35s 39ms/step - loss: 0.8386 - accuracy: 0.6899 - val_loss: 1.0171 - val_accuracy: 0.6282\n",
            "Epoch 122/200\n",
            "898/897 [==============================] - 35s 39ms/step - loss: 0.8472 - accuracy: 0.6852 - val_loss: 1.0639 - val_accuracy: 0.6163\n",
            "Epoch 123/200\n",
            "898/897 [==============================] - 35s 39ms/step - loss: 0.8421 - accuracy: 0.6865 - val_loss: 1.0412 - val_accuracy: 0.6258\n",
            "Epoch 124/200\n",
            "898/897 [==============================] - 35s 39ms/step - loss: 0.8484 - accuracy: 0.6849 - val_loss: 1.0629 - val_accuracy: 0.6204\n",
            "Epoch 125/200\n",
            "898/897 [==============================] - 35s 39ms/step - loss: 0.8512 - accuracy: 0.6824 - val_loss: 1.0781 - val_accuracy: 0.6179\n",
            "Epoch 126/200\n",
            "898/897 [==============================] - 35s 39ms/step - loss: 0.8435 - accuracy: 0.6914 - val_loss: 1.1659 - val_accuracy: 0.5991\n",
            "Epoch 127/200\n",
            "898/897 [==============================] - 35s 39ms/step - loss: 0.8414 - accuracy: 0.6881 - val_loss: 1.0708 - val_accuracy: 0.6158\n",
            "Epoch 128/200\n",
            "898/897 [==============================] - 35s 39ms/step - loss: 0.8344 - accuracy: 0.6920 - val_loss: 1.0659 - val_accuracy: 0.6202\n",
            "Epoch 129/200\n",
            "898/897 [==============================] - 35s 39ms/step - loss: 0.8408 - accuracy: 0.6903 - val_loss: 1.1013 - val_accuracy: 0.6069\n",
            "Epoch 130/200\n",
            "898/897 [==============================] - 35s 39ms/step - loss: 0.8420 - accuracy: 0.6897 - val_loss: 1.1010 - val_accuracy: 0.6155\n",
            "Epoch 131/200\n",
            "898/897 [==============================] - 35s 39ms/step - loss: 0.8405 - accuracy: 0.6895 - val_loss: 1.1122 - val_accuracy: 0.6021\n",
            "Epoch 132/200\n",
            "898/897 [==============================] - 35s 39ms/step - loss: 0.8383 - accuracy: 0.6888 - val_loss: 1.0631 - val_accuracy: 0.6160\n",
            "Epoch 133/200\n",
            "898/897 [==============================] - 35s 39ms/step - loss: 0.8397 - accuracy: 0.6871 - val_loss: 1.0686 - val_accuracy: 0.6156\n",
            "Epoch 134/200\n",
            "898/897 [==============================] - 35s 39ms/step - loss: 0.8342 - accuracy: 0.6920 - val_loss: 1.0632 - val_accuracy: 0.6211\n",
            "Epoch 135/200\n",
            "898/897 [==============================] - 35s 39ms/step - loss: 0.8355 - accuracy: 0.6950 - val_loss: 1.0715 - val_accuracy: 0.6201\n",
            "Epoch 136/200\n",
            "898/897 [==============================] - 36s 40ms/step - loss: 0.8360 - accuracy: 0.6895 - val_loss: 1.0341 - val_accuracy: 0.6321\n",
            "Epoch 137/200\n",
            "898/897 [==============================] - 36s 40ms/step - loss: 0.8329 - accuracy: 0.6911 - val_loss: 1.0589 - val_accuracy: 0.6349\n",
            "Epoch 138/200\n",
            "898/897 [==============================] - 36s 40ms/step - loss: 0.8372 - accuracy: 0.6910 - val_loss: 1.0610 - val_accuracy: 0.6273\n",
            "Epoch 139/200\n",
            "898/897 [==============================] - 36s 40ms/step - loss: 0.8337 - accuracy: 0.6900 - val_loss: 1.0554 - val_accuracy: 0.6308\n",
            "Epoch 140/200\n",
            "898/897 [==============================] - 35s 39ms/step - loss: 0.8337 - accuracy: 0.6925 - val_loss: 1.0722 - val_accuracy: 0.6181\n",
            "Epoch 141/200\n",
            "898/897 [==============================] - 35s 39ms/step - loss: 0.8317 - accuracy: 0.6911 - val_loss: 1.0803 - val_accuracy: 0.6222\n",
            "Epoch 142/200\n",
            "898/897 [==============================] - 35s 39ms/step - loss: 0.8290 - accuracy: 0.6945 - val_loss: 1.0633 - val_accuracy: 0.6284\n",
            "Epoch 143/200\n",
            "898/897 [==============================] - 35s 39ms/step - loss: 0.8264 - accuracy: 0.6918 - val_loss: 1.0985 - val_accuracy: 0.6162\n",
            "Epoch 144/200\n",
            "898/897 [==============================] - 35s 39ms/step - loss: 0.8290 - accuracy: 0.6919 - val_loss: 1.0573 - val_accuracy: 0.6303\n",
            "Epoch 145/200\n",
            "898/897 [==============================] - 35s 39ms/step - loss: 0.8302 - accuracy: 0.6927 - val_loss: 1.0434 - val_accuracy: 0.6293\n",
            "Epoch 146/200\n",
            "898/897 [==============================] - 35s 39ms/step - loss: 0.8279 - accuracy: 0.6957 - val_loss: 1.0602 - val_accuracy: 0.6312\n",
            "Epoch 147/200\n",
            "898/897 [==============================] - 35s 39ms/step - loss: 0.8186 - accuracy: 0.6965 - val_loss: 1.0805 - val_accuracy: 0.6257\n",
            "Epoch 148/200\n",
            "898/897 [==============================] - 35s 39ms/step - loss: 0.8316 - accuracy: 0.6930 - val_loss: 1.0796 - val_accuracy: 0.6209\n",
            "Epoch 149/200\n",
            "898/897 [==============================] - 35s 39ms/step - loss: 0.8227 - accuracy: 0.6961 - val_loss: 1.0889 - val_accuracy: 0.6165\n",
            "Epoch 150/200\n",
            "898/897 [==============================] - 35s 39ms/step - loss: 0.8261 - accuracy: 0.6927 - val_loss: 1.0481 - val_accuracy: 0.6332\n",
            "Epoch 151/200\n",
            "898/897 [==============================] - 35s 39ms/step - loss: 0.8213 - accuracy: 0.6935 - val_loss: 1.1131 - val_accuracy: 0.6089\n",
            "Epoch 152/200\n",
            "898/897 [==============================] - 35s 39ms/step - loss: 0.8192 - accuracy: 0.6970 - val_loss: 1.1060 - val_accuracy: 0.6070\n",
            "Epoch 153/200\n",
            "898/897 [==============================] - 35s 39ms/step - loss: 0.8259 - accuracy: 0.6964 - val_loss: 1.0737 - val_accuracy: 0.6232\n",
            "Epoch 154/200\n",
            "898/897 [==============================] - 35s 39ms/step - loss: 0.8270 - accuracy: 0.6948 - val_loss: 1.0700 - val_accuracy: 0.6237\n",
            "Epoch 155/200\n",
            "898/897 [==============================] - 35s 39ms/step - loss: 0.8205 - accuracy: 0.6957 - val_loss: 1.0640 - val_accuracy: 0.6236\n",
            "Epoch 156/200\n",
            "898/897 [==============================] - 35s 39ms/step - loss: 0.8193 - accuracy: 0.6943 - val_loss: 1.0895 - val_accuracy: 0.6147\n",
            "Epoch 157/200\n",
            "898/897 [==============================] - 35s 39ms/step - loss: 0.8186 - accuracy: 0.6987 - val_loss: 1.0688 - val_accuracy: 0.6226\n",
            "Epoch 158/200\n",
            "898/897 [==============================] - 35s 39ms/step - loss: 0.8222 - accuracy: 0.6956 - val_loss: 1.0718 - val_accuracy: 0.6286\n",
            "Epoch 159/200\n",
            "898/897 [==============================] - 35s 39ms/step - loss: 0.8148 - accuracy: 0.6991 - val_loss: 1.0577 - val_accuracy: 0.6307\n",
            "Epoch 160/200\n",
            "898/897 [==============================] - 35s 39ms/step - loss: 0.8153 - accuracy: 0.7019 - val_loss: 1.0425 - val_accuracy: 0.6332\n",
            "Epoch 161/200\n",
            "898/897 [==============================] - 36s 40ms/step - loss: 0.8179 - accuracy: 0.6950 - val_loss: 1.0790 - val_accuracy: 0.6297\n",
            "Epoch 162/200\n",
            "898/897 [==============================] - 36s 40ms/step - loss: 0.8111 - accuracy: 0.6981 - val_loss: 1.0617 - val_accuracy: 0.6241\n",
            "Epoch 163/200\n",
            "898/897 [==============================] - 36s 41ms/step - loss: 0.8092 - accuracy: 0.7024 - val_loss: 1.0565 - val_accuracy: 0.6284\n",
            "Epoch 164/200\n",
            "898/897 [==============================] - 36s 40ms/step - loss: 0.8142 - accuracy: 0.6965 - val_loss: 1.0757 - val_accuracy: 0.6211\n",
            "Epoch 165/200\n",
            "898/897 [==============================] - 36s 40ms/step - loss: 0.8157 - accuracy: 0.6979 - val_loss: 1.0674 - val_accuracy: 0.6204\n",
            "Epoch 166/200\n",
            "898/897 [==============================] - 35s 39ms/step - loss: 0.8122 - accuracy: 0.6999 - val_loss: 1.1504 - val_accuracy: 0.6043\n",
            "Epoch 167/200\n",
            "898/897 [==============================] - 35s 40ms/step - loss: 0.8114 - accuracy: 0.6996 - val_loss: 1.0651 - val_accuracy: 0.6250\n",
            "Epoch 168/200\n",
            "898/897 [==============================] - 35s 39ms/step - loss: 0.8144 - accuracy: 0.6978 - val_loss: 1.1357 - val_accuracy: 0.6064\n",
            "Epoch 169/200\n",
            "898/897 [==============================] - 35s 39ms/step - loss: 0.8108 - accuracy: 0.6984 - val_loss: 1.0781 - val_accuracy: 0.6234\n",
            "Epoch 170/200\n",
            "898/897 [==============================] - 35s 39ms/step - loss: 0.8124 - accuracy: 0.6979 - val_loss: 1.1069 - val_accuracy: 0.6186\n",
            "Epoch 171/200\n",
            "898/897 [==============================] - 35s 39ms/step - loss: 0.8066 - accuracy: 0.7007 - val_loss: 1.0849 - val_accuracy: 0.6201\n",
            "Epoch 172/200\n",
            "898/897 [==============================] - 35s 39ms/step - loss: 0.8090 - accuracy: 0.6978 - val_loss: 1.0631 - val_accuracy: 0.6219\n",
            "Epoch 173/200\n",
            "898/897 [==============================] - 35s 39ms/step - loss: 0.8052 - accuracy: 0.7019 - val_loss: 1.0694 - val_accuracy: 0.6219\n",
            "Epoch 174/200\n",
            "898/897 [==============================] - 35s 39ms/step - loss: 0.8072 - accuracy: 0.7042 - val_loss: 1.0471 - val_accuracy: 0.6276\n",
            "Epoch 175/200\n",
            "898/897 [==============================] - 35s 39ms/step - loss: 0.8121 - accuracy: 0.6994 - val_loss: 1.1027 - val_accuracy: 0.6101\n",
            "Epoch 176/200\n",
            "898/897 [==============================] - 35s 39ms/step - loss: 0.8086 - accuracy: 0.7025 - val_loss: 1.1574 - val_accuracy: 0.5985\n",
            "Epoch 177/200\n",
            "898/897 [==============================] - 35s 39ms/step - loss: 0.8080 - accuracy: 0.7002 - val_loss: 1.0508 - val_accuracy: 0.6278\n",
            "Epoch 178/200\n",
            "898/897 [==============================] - 35s 39ms/step - loss: 0.8109 - accuracy: 0.6978 - val_loss: 1.0871 - val_accuracy: 0.6213\n",
            "Epoch 179/200\n",
            "898/897 [==============================] - 35s 39ms/step - loss: 0.8042 - accuracy: 0.7019 - val_loss: 1.0542 - val_accuracy: 0.6237\n",
            "Epoch 180/200\n",
            "898/897 [==============================] - 35s 39ms/step - loss: 0.8067 - accuracy: 0.7016 - val_loss: 1.0972 - val_accuracy: 0.6174\n",
            "Epoch 181/200\n",
            "898/897 [==============================] - 35s 39ms/step - loss: 0.8043 - accuracy: 0.7036 - val_loss: 1.1019 - val_accuracy: 0.6236\n",
            "Epoch 182/200\n",
            "898/897 [==============================] - 35s 39ms/step - loss: 0.8056 - accuracy: 0.7029 - val_loss: 1.0981 - val_accuracy: 0.6213\n",
            "Epoch 183/200\n",
            "898/897 [==============================] - 35s 39ms/step - loss: 0.7988 - accuracy: 0.7053 - val_loss: 1.0760 - val_accuracy: 0.6197\n",
            "Epoch 184/200\n",
            "898/897 [==============================] - 35s 39ms/step - loss: 0.8068 - accuracy: 0.7017 - val_loss: 1.0592 - val_accuracy: 0.6259\n",
            "Epoch 185/200\n",
            "898/897 [==============================] - 35s 39ms/step - loss: 0.8010 - accuracy: 0.7030 - val_loss: 1.0435 - val_accuracy: 0.6329\n",
            "Epoch 186/200\n",
            "898/897 [==============================] - 35s 39ms/step - loss: 0.7988 - accuracy: 0.7054 - val_loss: 1.0746 - val_accuracy: 0.6244\n",
            "Epoch 187/200\n",
            "898/897 [==============================] - 36s 40ms/step - loss: 0.8046 - accuracy: 0.7015 - val_loss: 1.0907 - val_accuracy: 0.6138\n",
            "Epoch 188/200\n",
            "898/897 [==============================] - 35s 39ms/step - loss: 0.7998 - accuracy: 0.7054 - val_loss: 1.0880 - val_accuracy: 0.6037\n",
            "Epoch 189/200\n",
            "898/897 [==============================] - 35s 39ms/step - loss: 0.8022 - accuracy: 0.7037 - val_loss: 1.0642 - val_accuracy: 0.6252\n",
            "Epoch 190/200\n",
            "898/897 [==============================] - 35s 39ms/step - loss: 0.7934 - accuracy: 0.7087 - val_loss: 1.0981 - val_accuracy: 0.6218\n",
            "Epoch 191/200\n",
            "898/897 [==============================] - 35s 39ms/step - loss: 0.8079 - accuracy: 0.7021 - val_loss: 1.1068 - val_accuracy: 0.6156\n",
            "Epoch 192/200\n",
            "898/897 [==============================] - 35s 39ms/step - loss: 0.8084 - accuracy: 0.6996 - val_loss: 1.1021 - val_accuracy: 0.6183\n",
            "Epoch 193/200\n",
            "898/897 [==============================] - 35s 39ms/step - loss: 0.7981 - accuracy: 0.7054 - val_loss: 1.0554 - val_accuracy: 0.6339\n",
            "Epoch 194/200\n",
            "898/897 [==============================] - 35s 39ms/step - loss: 0.7955 - accuracy: 0.7062 - val_loss: 1.0776 - val_accuracy: 0.6248\n",
            "Epoch 195/200\n",
            "898/897 [==============================] - 35s 39ms/step - loss: 0.8003 - accuracy: 0.7046 - val_loss: 1.0709 - val_accuracy: 0.6261\n",
            "Epoch 196/200\n",
            "898/897 [==============================] - 35s 39ms/step - loss: 0.7962 - accuracy: 0.7067 - val_loss: 1.0975 - val_accuracy: 0.6216\n",
            "Epoch 197/200\n",
            "898/897 [==============================] - 35s 39ms/step - loss: 0.7940 - accuracy: 0.7052 - val_loss: 1.0888 - val_accuracy: 0.6176\n",
            "Epoch 198/200\n",
            "898/897 [==============================] - 35s 39ms/step - loss: 0.7973 - accuracy: 0.7062 - val_loss: 1.0808 - val_accuracy: 0.6229\n",
            "Epoch 199/200\n",
            "898/897 [==============================] - 35s 39ms/step - loss: 0.7928 - accuracy: 0.7074 - val_loss: 1.0676 - val_accuracy: 0.6257\n",
            "Epoch 200/200\n",
            "898/897 [==============================] - 35s 39ms/step - loss: 0.7969 - accuracy: 0.7067 - val_loss: 1.0434 - val_accuracy: 0.6303\n"
          ],
          "name": "stdout"
        }
      ]
    },
    {
      "cell_type": "code",
      "metadata": {
        "id": "cePF9z8U-5Fh",
        "colab_type": "code",
        "colab": {
          "base_uri": "https://localhost:8080/",
          "height": 573
        },
        "outputId": "20ab001a-afa5-48db-d377-9be9ab9f2458"
      },
      "source": [
        "import matplotlib.pyplot as plt\n",
        "\n",
        "plt.plot(history.history['accuracy'])\n",
        "plt.title('model accuracy')\n",
        "plt.ylabel('accuracy')\n",
        "plt.xlabel('epoch')\n",
        "plt.legend(['train'], loc='upper left')\n",
        "plt.show()\n",
        "#summarize history for loss\n",
        "plt.plot(history.history['loss'])\n",
        "# plt.plot(history.history['val_loss'])\n",
        "plt.title('model loss')\n",
        "plt.ylabel('loss')\n",
        "plt.xlabel('epoch')\n",
        "plt.legend(['lose'], loc='upper left')\n",
        "plt.show()"
      ],
      "execution_count": 40,
      "outputs": [
        {
          "output_type": "display_data",
          "data": {
            "image/png": "[encoded data removed]",
            "text/plain": [
              "<Figure size 432x288 with 1 Axes>"
            ]
          },
          "metadata": {
            "tags": [],
            "needs_background": "light"
          }
        },
        {
          "output_type": "display_data",
          "data": {
            "image/png": "[encoded data removed]",
            "text/plain": [
              "<Figure size 432x288 with 1 Axes>"
            ]
          },
          "metadata": {
            "tags": [],
            "needs_background": "light"
          }
        }
      ]
    },
    {
      "cell_type": "code",
      "metadata": {
        "id": "_NP4ZaxB-5La",
        "colab_type": "code",
        "colab": {}
      },
      "source": [
        ""
      ],
      "execution_count": null,
      "outputs": []
    },
    {
      "cell_type": "code",
      "metadata": {
        "id": "ZU_pW3Ih-5R7",
        "colab_type": "code",
        "colab": {
          "base_uri": "https://localhost:8080/",
          "height": 34
        },
        "outputId": "f5183a7c-218f-4de8-d73a-5bbc4b5f6efd"
      },
      "source": [
        "print(\"ahemd_ali\")"
      ],
      "execution_count": null,
      "outputs": [
        {
          "output_type": "stream",
          "text": [
            "ahemd_ali\n"
          ],
          "name": "stdout"
        }
      ]
    },
    {
      "cell_type": "code",
      "metadata": {
        "id": "siPUd1g2-5WN",
        "colab_type": "code",
        "colab": {
          "base_uri": "https://localhost:8080/",
          "height": 35
        },
        "outputId": "521a6ef5-32a5-4202-e10b-04c9a3a950f1"
      },
      "source": [
        "print(\"youssef\")"
      ],
      "execution_count": null,
      "outputs": [
        {
          "output_type": "stream",
          "text": [
            "youssef\n"
          ],
          "name": "stdout"
        }
      ]
    },
    {
      "cell_type": "code",
      "metadata": {
        "id": "wtRdjETH-5ca",
        "colab_type": "code",
        "colab": {
          "base_uri": "https://localhost:8080/",
          "height": 34
        },
        "outputId": "4afffecd-7549-4609-85d5-e496adf066c2"
      },
      "source": [
        "print(\"ahmed_ali\")"
      ],
      "execution_count": null,
      "outputs": [
        {
          "output_type": "stream",
          "text": [
            "ahmed_ali\n"
          ],
          "name": "stdout"
        }
      ]
    },
    {
      "cell_type": "code",
      "metadata": {
        "id": "bpJKgDZb-5nH",
        "colab_type": "code",
        "colab": {
          "base_uri": "https://localhost:8080/",
          "height": 34
        },
        "outputId": "f32b2ea2-d953-4d5d-e1ed-4320982ebfb6"
      },
      "source": [
        "print(\"ahmed_ali_ahmed\")"
      ],
      "execution_count": null,
      "outputs": [
        {
          "output_type": "stream",
          "text": [
            "ahmed_ali_ahmed\n"
          ],
          "name": "stdout"
        }
      ]
    },
    {
      "cell_type": "code",
      "metadata": {
        "id": "WYM_Fiim-5uF",
        "colab_type": "code",
        "colab": {}
      },
      "source": [
        ""
      ],
      "execution_count": null,
      "outputs": []
    },
    {
      "cell_type": "code",
      "metadata": {
        "id": "ropTwOWg-5rU",
        "colab_type": "code",
        "colab": {}
      },
      "source": [
        ""
      ],
      "execution_count": null,
      "outputs": []
    },
    {
      "cell_type": "code",
      "metadata": {
        "id": "Dojpmz8F-5kC",
        "colab_type": "code",
        "colab": {}
      },
      "source": [
        ""
      ],
      "execution_count": null,
      "outputs": []
    },
    {
      "cell_type": "code",
      "metadata": {
        "id": "WjCDzMfJ-5gj",
        "colab_type": "code",
        "colab": {}
      },
      "source": [
        ""
      ],
      "execution_count": null,
      "outputs": []
    },
    {
      "cell_type": "code",
      "metadata": {
        "id": "FLzsvRjX-5Zw",
        "colab_type": "code",
        "colab": {}
      },
      "source": [
        ""
      ],
      "execution_count": null,
      "outputs": []
    },
    {
      "cell_type": "code",
      "metadata": {
        "id": "uTWCH9eA-5Pi",
        "colab_type": "code",
        "colab": {}
      },
      "source": [
        ""
      ],
      "execution_count": null,
      "outputs": []
    },
    {
      "cell_type": "code",
      "metadata": {
        "id": "uWarqOIc-4_E",
        "colab_type": "code",
        "colab": {}
      },
      "source": [
        ""
      ],
      "execution_count": null,
      "outputs": []
    },
    {
      "cell_type": "code",
      "metadata": {
        "id": "fY4av1tI-478",
        "colab_type": "code",
        "colab": {}
      },
      "source": [
        ""
      ],
      "execution_count": null,
      "outputs": []
    },
    {
      "cell_type": "code",
      "metadata": {
        "id": "S8pBVEdM-41g",
        "colab_type": "code",
        "colab": {}
      },
      "source": [
        ""
      ],
      "execution_count": null,
      "outputs": []
    },
    {
      "cell_type": "code",
      "metadata": {
        "id": "AI-21hSA-4v4",
        "colab_type": "code",
        "colab": {}
      },
      "source": [
        ""
      ],
      "execution_count": null,
      "outputs": []
    },
    {
      "cell_type": "code",
      "metadata": {
        "id": "WgPYfs87-4mx",
        "colab_type": "code",
        "colab": {}
      },
      "source": [
        ""
      ],
      "execution_count": null,
      "outputs": []
    },
    {
      "cell_type": "code",
      "metadata": {
        "id": "RbC9tzW_-4gr",
        "colab_type": "code",
        "colab": {}
      },
      "source": [
        ""
      ],
      "execution_count": null,
      "outputs": []
    },
    {
      "cell_type": "code",
      "metadata": {
        "id": "a_wjVxKz-4Wv",
        "colab_type": "code",
        "colab": {}
      },
      "source": [
        ""
      ],
      "execution_count": null,
      "outputs": []
    },
    {
      "cell_type": "code",
      "metadata": {
        "id": "g9hYGj5j-4US",
        "colab_type": "code",
        "colab": {}
      },
      "source": [
        ""
      ],
      "execution_count": null,
      "outputs": []
    },
    {
      "cell_type": "code",
      "metadata": {
        "id": "I57lBk3y-4LP",
        "colab_type": "code",
        "colab": {}
      },
      "source": [
        ""
      ],
      "execution_count": null,
      "outputs": []
    },
    {
      "cell_type": "code",
      "metadata": {
        "id": "uKWiZj_B-4Ik",
        "colab_type": "code",
        "colab": {}
      },
      "source": [
        ""
      ],
      "execution_count": null,
      "outputs": []
    },
    {
      "cell_type": "code",
      "metadata": {
        "id": "1GVSIPyp-3_y",
        "colab_type": "code",
        "colab": {}
      },
      "source": [
        ""
      ],
      "execution_count": null,
      "outputs": []
    },
    {
      "cell_type": "code",
      "metadata": {
        "id": "4xf300HS-39l",
        "colab_type": "code",
        "colab": {}
      },
      "source": [
        ""
      ],
      "execution_count": null,
      "outputs": []
    }
  ]
}